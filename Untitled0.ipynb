{
  "nbformat": 4,
  "nbformat_minor": 0,
  "metadata": {
    "colab": {
      "provenance": [],
      "authorship_tag": "ABX9TyOrIJ/14jXlEDNUXmTIM6Sj",
      "include_colab_link": true
    },
    "kernelspec": {
      "name": "python3",
      "display_name": "Python 3"
    },
    "language_info": {
      "name": "python"
    }
  },
  "cells": [
    {
      "cell_type": "markdown",
      "metadata": {
        "id": "view-in-github",
        "colab_type": "text"
      },
      "source": [
        "<a href=\"https://colab.research.google.com/github/arcanjo96/gemini-company-frequently-asked-questions/blob/main/Untitled0.ipynb\" target=\"_parent\"><img src=\"https://colab.research.google.com/assets/colab-badge.svg\" alt=\"Open In Colab\"/></a>"
      ]
    },
    {
      "cell_type": "code",
      "execution_count": 1,
      "metadata": {
        "id": "UjwV4mNv-aCo"
      },
      "outputs": [],
      "source": [
        "!pip install -q -U google-generativeai"
      ]
    },
    {
      "cell_type": "markdown",
      "source": [
        "configurando genai com o GOOGLE_API_KEY"
      ],
      "metadata": {
        "id": "EIqLQmcjBJ9Y"
      }
    },
    {
      "cell_type": "code",
      "source": [
        "import google.generativeai as genai\n",
        "\n",
        "GOOGLE_API_KEY='YOUR_API_KEY'\n",
        "genai.configure(api_key=GOOGLE_API_KEY)"
      ],
      "metadata": {
        "id": "ytcxUfzYAL_V"
      },
      "execution_count": 2,
      "outputs": []
    },
    {
      "cell_type": "markdown",
      "source": [
        "configuracoes do model"
      ],
      "metadata": {
        "id": "Ht0-9rkpBH1D"
      }
    },
    {
      "cell_type": "code",
      "source": [
        "generation_config = {\n",
        "    'candidate_count': 1,\n",
        "    'temperature': 0.5\n",
        "}"
      ],
      "metadata": {
        "id": "xMC1onPoApEy"
      },
      "execution_count": 9,
      "outputs": []
    },
    {
      "cell_type": "markdown",
      "source": [
        "inicializando o model"
      ],
      "metadata": {
        "id": "yactbwFEBoAm"
      }
    },
    {
      "cell_type": "code",
      "source": [
        "model = genai.GenerativeModel(model_name='gemini-1.0-pro', generation_config=generation_config)"
      ],
      "metadata": {
        "id": "q3_73FbRBqSF"
      },
      "execution_count": 12,
      "outputs": []
    },
    {
      "cell_type": "markdown",
      "source": [
        "configuracao das informacoes da empresa"
      ],
      "metadata": {
        "id": "X6-wV61lGZfq"
      }
    },
    {
      "cell_type": "code",
      "source": [
        "# exemplo de perguntas frequentes ou dvúvidas de uma empresa do ramo financeiro\n",
        "data=[\n",
        "    {\n",
        "        'question': 'Quais são os horários de trabalho e como funciona o sistema de ponto?',\n",
        "        'answer': 'Os horários de trabalho são de segunda a sexta, das 9h às 18h, com 1 hora de almoço. O sistema de ponto é eletrônico e o acesso é feito através da sua digital. É importante registrar a entrada e saída, assim como o início e término do intervalo.'\n",
        "    },\n",
        "    {\n",
        "        'question': 'Como solicito folgas e férias?',\n",
        "        'answer': 'A solicitação de folgas deve ser feita ao seu gestor imediato com antecedência mínima de 48 horas. Para as férias, a solicitação deve ser feita com 30 dias de antecedência pelo sistema interno, respeitando o calendário anual da empresa.'\n",
        "    },\n",
        "    {\n",
        "        'question': 'Onde posso encontrar informações sobre os benefícios oferecidos pela empresa, como vale-refeição e plano de saúde?',\n",
        "        'answer': 'Todas as informações sobre os benefícios estão disponíveis na intranet da empresa, na aba \"Recursos Humanos\". Lá você encontra detalhes sobre o plano de saúde, vale-refeição, vale-transporte, auxílio creche, entre outros.'\n",
        "    },\n",
        "    {\n",
        "        'question': 'Qual o procedimento para reembolso de despesas relacionadas ao trabalho?',\n",
        "        'answer': 'Para solicitar reembolso, é necessário preencher o formulário online na intranet, anexando os comprovantes de despesa originais e a autorização do gestor. O prazo para reembolso é de até 15 dias úteis após a entrega da documentação completa.'\n",
        "    },\n",
        "    {\n",
        "        'question': 'Como acesso o meu holerite e outros documentos pessoais?',\n",
        "        'answer': 'O acesso ao holerite e outros documentos pessoais é feito através do portal do colaborador na intranet, utilizando seu login e senha. Caso tenha esquecido sua senha, pode redefini-la através do próprio portal.'\n",
        "    },\n",
        "    {\n",
        "        'question': 'Onde posso reportar um problema técnico com meu computador ou outros equipamentos da empresa?',\n",
        "        'answer': 'Para reportar problemas técnicos, abra um chamado no sistema de suporte de TI, detalhando o problema encontrado. Você também pode entrar em contato com a equipe de TI pelo telefone ramal 1234.'\n",
        "    },\n",
        "    {\n",
        "        'question': 'Como funciona a política de uso de telefone e internet da empresa?',\n",
        "        'answer': 'O uso do telefone corporativo é restrito a assuntos profissionais. O acesso à internet deve ser utilizado para fins de trabalho, sendo proibido o acesso a sites inapropriados ou downloads ilegais.'\n",
        "    },\n",
        "    {\n",
        "        'question': 'Qual o código de vestimenta da empresa?',\n",
        "        'answer': 'O código de vestimenta é social. No dia a dia, utilize trajes sociais completos, com exceção das sextas-feiras, onde é permitido o uso de jeans e camisa social.'\n",
        "    },\n",
        "    {\n",
        "        'question': 'Como posso sugerir melhorias para a empresa?',\n",
        "        'answer': 'A empresa incentiva a participação dos colaboradores na busca por melhorias. Você pode enviar suas sugestões através da caixa de sugestões na intranet ou conversar diretamente com seu gestor.'\n",
        "    },\n",
        "    {\n",
        "        'question': 'Onde encontro o código de ética e conduta da empresa?',\n",
        "        'answer': 'O código de ética e conduta está disponível na intranet, na aba \"Compliance\". É fundamental que todos os colaboradores leiam e sigam as diretrizes presentes neste documento.'\n",
        "    },\n",
        "    {\n",
        "        'question': 'Quais são os valores da nossa empresa?',\n",
        "        'answer': 'Nossos valores são a base da nossa cultura e guiam todas as nossas ações. Eles são: \\n\\n**Para Clientes:**\\n* **Transparência:**  Oferecer informações claras, precisas e completas sobre produtos e serviços.\\n* **Segurança:** Proteger as informações e o patrimônio dos clientes.\\n* **Confiança:** Construir relacionamentos sólidos e duradouros.\\n* **Excelência no Atendimento:**  Fornecer um atendimento personalizado, ágil e eficiente.\\n\\n**Para Colaboradores:**\\n* **Respeito:** Promover um ambiente de trabalho respeitoso, inclusivo e livre de qualquer tipo de discriminação.\\n* **Desenvolvimento:**  Incentivar o crescimento profissional dos colaboradores.\\n* **Valorização:** Reconhecer e recompensar o desempenho, a dedicação e a contribuição dos colaboradores.\\n* **Ética:**  Agir com integridade, honestidade e responsabilidade em todas as atividades.\\n\\n**Para a Sociedade:**\\n* **Sustentabilidade:**  Conduzir os negócios de forma responsável, buscando minimizar o impacto ambiental.\\n* **Inovação:** Investir em novas tecnologias e soluções inovadoras.\\n* **Compromisso Social:**  Apoiar iniciativas e projetos que promovam o bem-estar social.'\n",
        "    }\n",
        "]"
      ],
      "metadata": {
        "id": "d7Yt4NnCGR5B"
      },
      "execution_count": 29,
      "outputs": []
    },
    {
      "cell_type": "code",
      "source": [
        "chat = model.start_chat(history=[])"
      ],
      "metadata": {
        "id": "H3PcVRApI6bY"
      },
      "execution_count": 22,
      "outputs": []
    },
    {
      "cell_type": "code",
      "source": [
        "chat.send_message(f'haja como um assistente que só responde o que está nesta lista: {str(data)}.')\n",
        "default_input_message = 'Qual sua dúvida? \\nA qualquer momento digite *sair* para encerrar o atendimento.\\n'\n",
        "prompt = input(default_input_message)\n",
        "while prompt != 'sair':\n",
        "  response = chat.send_message(prompt)\n",
        "  print(f'\\nResposta: {response.text}\\n')\n",
        "  prompt = input(default_input_message)\n",
        "print('Atendimento encerrado.')"
      ],
      "metadata": {
        "colab": {
          "base_uri": "https://localhost:8080/",
          "height": 1000
        },
        "id": "GvyftE0iHksp",
        "outputId": "1ea17197-d808-4279-dfa3-66e378f4cc3c"
      },
      "execution_count": 34,
      "outputs": [
        {
          "output_type": "stream",
          "name": "stdout",
          "text": [
            "Qual sua dúvida? \n",
            "A qualquer momento digite *sair* para encerrar o atendimento.\n",
            "quais os valores da empresa\n",
            "\n",
            "Resposta: **Valores da Empresa:**\n",
            "\n",
            "* **Para Clientes:**\n",
            "    * Transparência\n",
            "    * Segurança\n",
            "    * Confiança\n",
            "    * Excelência no Atendimento\n",
            "\n",
            "* **Para Colaboradores:**\n",
            "    * Respeito\n",
            "    * Desenvolvimento\n",
            "    * Valorização\n",
            "    * Ética\n",
            "\n",
            "* **Para a Sociedade:**\n",
            "    * Sustentabilidade\n",
            "    * Inovação\n",
            "    * Compromisso Social\n",
            "\n",
            "Qual sua dúvida? \n",
            "A qualquer momento digite *sair* para encerrar o atendimento.\n",
            "tive um problema na minha maquina\n",
            "\n",
            "Resposta: Esta informação não está na lista fornecida.\n",
            "\n",
            "Qual sua dúvida? \n",
            "A qualquer momento digite *sair* para encerrar o atendimento.\n",
            "sou novo na empresa como funciona o ponto\n",
            "\n",
            "Resposta: **Funcionamento do Sistema de Ponto:**\n",
            "\n",
            "* Os horários de trabalho são de segunda a sexta, das 9h às 18h, com 1 hora de almoço.\n",
            "* O sistema de ponto é eletrônico e o acesso é feito através da sua digital.\n",
            "* É importante registrar a entrada e saída, assim como o início e término do intervalo.\n",
            "\n"
          ]
        },
        {
          "output_type": "error",
          "ename": "KeyboardInterrupt",
          "evalue": "Interrupted by user",
          "traceback": [
            "\u001b[0;31m---------------------------------------------------------------------------\u001b[0m",
            "\u001b[0;31mKeyboardInterrupt\u001b[0m                         Traceback (most recent call last)",
            "\u001b[0;32m<ipython-input-34-419254ab6cce>\u001b[0m in \u001b[0;36m<cell line: 4>\u001b[0;34m()\u001b[0m\n\u001b[1;32m      5\u001b[0m   \u001b[0mresponse\u001b[0m \u001b[0;34m=\u001b[0m \u001b[0mchat\u001b[0m\u001b[0;34m.\u001b[0m\u001b[0msend_message\u001b[0m\u001b[0;34m(\u001b[0m\u001b[0mprompt\u001b[0m\u001b[0;34m)\u001b[0m\u001b[0;34m\u001b[0m\u001b[0;34m\u001b[0m\u001b[0m\n\u001b[1;32m      6\u001b[0m   \u001b[0mprint\u001b[0m\u001b[0;34m(\u001b[0m\u001b[0;34mf'\\nResposta: {response.text}\\n'\u001b[0m\u001b[0;34m)\u001b[0m\u001b[0;34m\u001b[0m\u001b[0;34m\u001b[0m\u001b[0m\n\u001b[0;32m----> 7\u001b[0;31m   \u001b[0mprompt\u001b[0m \u001b[0;34m=\u001b[0m \u001b[0minput\u001b[0m\u001b[0;34m(\u001b[0m\u001b[0mdefault_input_message\u001b[0m\u001b[0;34m)\u001b[0m\u001b[0;34m\u001b[0m\u001b[0;34m\u001b[0m\u001b[0m\n\u001b[0m\u001b[1;32m      8\u001b[0m \u001b[0mprint\u001b[0m\u001b[0;34m(\u001b[0m\u001b[0;34m'Atendimento encerrado.'\u001b[0m\u001b[0;34m)\u001b[0m\u001b[0;34m\u001b[0m\u001b[0;34m\u001b[0m\u001b[0m\n",
            "\u001b[0;32m/usr/local/lib/python3.10/dist-packages/ipykernel/kernelbase.py\u001b[0m in \u001b[0;36mraw_input\u001b[0;34m(self, prompt)\u001b[0m\n\u001b[1;32m    849\u001b[0m                 \u001b[0;34m\"raw_input was called, but this frontend does not support input requests.\"\u001b[0m\u001b[0;34m\u001b[0m\u001b[0;34m\u001b[0m\u001b[0m\n\u001b[1;32m    850\u001b[0m             )\n\u001b[0;32m--> 851\u001b[0;31m         return self._input_request(str(prompt),\n\u001b[0m\u001b[1;32m    852\u001b[0m             \u001b[0mself\u001b[0m\u001b[0;34m.\u001b[0m\u001b[0m_parent_ident\u001b[0m\u001b[0;34m,\u001b[0m\u001b[0;34m\u001b[0m\u001b[0;34m\u001b[0m\u001b[0m\n\u001b[1;32m    853\u001b[0m             \u001b[0mself\u001b[0m\u001b[0;34m.\u001b[0m\u001b[0m_parent_header\u001b[0m\u001b[0;34m,\u001b[0m\u001b[0;34m\u001b[0m\u001b[0;34m\u001b[0m\u001b[0m\n",
            "\u001b[0;32m/usr/local/lib/python3.10/dist-packages/ipykernel/kernelbase.py\u001b[0m in \u001b[0;36m_input_request\u001b[0;34m(self, prompt, ident, parent, password)\u001b[0m\n\u001b[1;32m    893\u001b[0m             \u001b[0;32mexcept\u001b[0m \u001b[0mKeyboardInterrupt\u001b[0m\u001b[0;34m:\u001b[0m\u001b[0;34m\u001b[0m\u001b[0;34m\u001b[0m\u001b[0m\n\u001b[1;32m    894\u001b[0m                 \u001b[0;31m# re-raise KeyboardInterrupt, to truncate traceback\u001b[0m\u001b[0;34m\u001b[0m\u001b[0;34m\u001b[0m\u001b[0m\n\u001b[0;32m--> 895\u001b[0;31m                 \u001b[0;32mraise\u001b[0m \u001b[0mKeyboardInterrupt\u001b[0m\u001b[0;34m(\u001b[0m\u001b[0;34m\"Interrupted by user\"\u001b[0m\u001b[0;34m)\u001b[0m \u001b[0;32mfrom\u001b[0m \u001b[0;32mNone\u001b[0m\u001b[0;34m\u001b[0m\u001b[0;34m\u001b[0m\u001b[0m\n\u001b[0m\u001b[1;32m    896\u001b[0m             \u001b[0;32mexcept\u001b[0m \u001b[0mException\u001b[0m \u001b[0;32mas\u001b[0m \u001b[0me\u001b[0m\u001b[0;34m:\u001b[0m\u001b[0;34m\u001b[0m\u001b[0;34m\u001b[0m\u001b[0m\n\u001b[1;32m    897\u001b[0m                 \u001b[0mself\u001b[0m\u001b[0;34m.\u001b[0m\u001b[0mlog\u001b[0m\u001b[0;34m.\u001b[0m\u001b[0mwarning\u001b[0m\u001b[0;34m(\u001b[0m\u001b[0;34m\"Invalid Message:\"\u001b[0m\u001b[0;34m,\u001b[0m \u001b[0mexc_info\u001b[0m\u001b[0;34m=\u001b[0m\u001b[0;32mTrue\u001b[0m\u001b[0;34m)\u001b[0m\u001b[0;34m\u001b[0m\u001b[0;34m\u001b[0m\u001b[0m\n",
            "\u001b[0;31mKeyboardInterrupt\u001b[0m: Interrupted by user"
          ]
        }
      ]
    }
  ]
}